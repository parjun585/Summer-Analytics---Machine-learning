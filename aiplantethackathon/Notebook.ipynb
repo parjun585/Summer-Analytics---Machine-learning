{
 "cells": [
  {
   "cell_type": "code",
   "execution_count": 2,
   "id": "41f029c1",
   "metadata": {},
   "outputs": [],
   "source": [
    "import pandas as pd\n",
    "import numpy as np\n",
    "import matplotlib.pyplot as plt\n",
    "import seaborn as sns\n",
    "\n",
    "from sklearn.model_selection import train_test_split\n",
    "from sklearn.impute import SimpleImputer\n",
    "from sklearn.preprocessing import StandardScaler\n",
    "from sklearn.ensemble import RandomForestClassifier\n",
    "from sklearn.metrics import f1_score\n",
    "from xgboost import XGBClassifier\n",
    "from lightgbm import LGBMClassifier\n",
    "\n",
    "# Load the data\n",
    "train = pd.read_csv(\"Train_Data.csv\")\n",
    "test = pd.read_csv(\"Test_Data.csv\")  \n",
    "\n"
   ]
  },
  {
   "cell_type": "code",
   "execution_count": 3,
   "id": "a45c4c82",
   "metadata": {},
   "outputs": [
    {
     "data": {
      "text/html": [
       "<div>\n",
       "<style scoped>\n",
       "    .dataframe tbody tr th:only-of-type {\n",
       "        vertical-align: middle;\n",
       "    }\n",
       "\n",
       "    .dataframe tbody tr th {\n",
       "        vertical-align: top;\n",
       "    }\n",
       "\n",
       "    .dataframe thead th {\n",
       "        text-align: right;\n",
       "    }\n",
       "</style>\n",
       "<table border=\"1\" class=\"dataframe\">\n",
       "  <thead>\n",
       "    <tr style=\"text-align: right;\">\n",
       "      <th></th>\n",
       "      <th>SEQN</th>\n",
       "      <th>RIDAGEYR</th>\n",
       "      <th>RIAGENDR</th>\n",
       "      <th>PAQ605</th>\n",
       "      <th>BMXBMI</th>\n",
       "      <th>LBXGLU</th>\n",
       "      <th>DIQ010</th>\n",
       "      <th>LBXGLT</th>\n",
       "      <th>LBXIN</th>\n",
       "      <th>age_group</th>\n",
       "    </tr>\n",
       "  </thead>\n",
       "  <tbody>\n",
       "    <tr>\n",
       "      <th>0</th>\n",
       "      <td>73564.0</td>\n",
       "      <td>61.0</td>\n",
       "      <td>2.0</td>\n",
       "      <td>2.0</td>\n",
       "      <td>35.7</td>\n",
       "      <td>110.0</td>\n",
       "      <td>2.0</td>\n",
       "      <td>150.0</td>\n",
       "      <td>14.91</td>\n",
       "      <td>Adult</td>\n",
       "    </tr>\n",
       "    <tr>\n",
       "      <th>1</th>\n",
       "      <td>73568.0</td>\n",
       "      <td>26.0</td>\n",
       "      <td>2.0</td>\n",
       "      <td>2.0</td>\n",
       "      <td>20.3</td>\n",
       "      <td>89.0</td>\n",
       "      <td>2.0</td>\n",
       "      <td>80.0</td>\n",
       "      <td>3.85</td>\n",
       "      <td>Adult</td>\n",
       "    </tr>\n",
       "    <tr>\n",
       "      <th>2</th>\n",
       "      <td>73576.0</td>\n",
       "      <td>16.0</td>\n",
       "      <td>1.0</td>\n",
       "      <td>2.0</td>\n",
       "      <td>23.2</td>\n",
       "      <td>89.0</td>\n",
       "      <td>2.0</td>\n",
       "      <td>68.0</td>\n",
       "      <td>6.14</td>\n",
       "      <td>Adult</td>\n",
       "    </tr>\n",
       "    <tr>\n",
       "      <th>3</th>\n",
       "      <td>73577.0</td>\n",
       "      <td>32.0</td>\n",
       "      <td>1.0</td>\n",
       "      <td>2.0</td>\n",
       "      <td>28.9</td>\n",
       "      <td>104.0</td>\n",
       "      <td>NaN</td>\n",
       "      <td>84.0</td>\n",
       "      <td>16.15</td>\n",
       "      <td>Adult</td>\n",
       "    </tr>\n",
       "    <tr>\n",
       "      <th>4</th>\n",
       "      <td>73580.0</td>\n",
       "      <td>38.0</td>\n",
       "      <td>2.0</td>\n",
       "      <td>1.0</td>\n",
       "      <td>35.9</td>\n",
       "      <td>103.0</td>\n",
       "      <td>2.0</td>\n",
       "      <td>81.0</td>\n",
       "      <td>10.92</td>\n",
       "      <td>Adult</td>\n",
       "    </tr>\n",
       "  </tbody>\n",
       "</table>\n",
       "</div>"
      ],
      "text/plain": [
       "      SEQN  RIDAGEYR  RIAGENDR  PAQ605  BMXBMI  LBXGLU  DIQ010  LBXGLT  LBXIN  \\\n",
       "0  73564.0      61.0       2.0     2.0    35.7   110.0     2.0   150.0  14.91   \n",
       "1  73568.0      26.0       2.0     2.0    20.3    89.0     2.0    80.0   3.85   \n",
       "2  73576.0      16.0       1.0     2.0    23.2    89.0     2.0    68.0   6.14   \n",
       "3  73577.0      32.0       1.0     2.0    28.9   104.0     NaN    84.0  16.15   \n",
       "4  73580.0      38.0       2.0     1.0    35.9   103.0     2.0    81.0  10.92   \n",
       "\n",
       "  age_group  \n",
       "0     Adult  \n",
       "1     Adult  \n",
       "2     Adult  \n",
       "3     Adult  \n",
       "4     Adult  "
      ]
     },
     "execution_count": 3,
     "metadata": {},
     "output_type": "execute_result"
    }
   ],
   "source": [
    "train.head()"
   ]
  },
  {
   "cell_type": "code",
   "execution_count": 4,
   "id": "84421a7b",
   "metadata": {},
   "outputs": [
    {
     "name": "stdout",
     "output_type": "stream",
     "text": [
      "<class 'pandas.core.frame.DataFrame'>\n",
      "RangeIndex: 1966 entries, 0 to 1965\n",
      "Data columns (total 10 columns):\n",
      " #   Column     Non-Null Count  Dtype  \n",
      "---  ------     --------------  -----  \n",
      " 0   SEQN       1954 non-null   float64\n",
      " 1   RIDAGEYR   1957 non-null   float64\n",
      " 2   RIAGENDR   1948 non-null   float64\n",
      " 3   PAQ605     1953 non-null   float64\n",
      " 4   BMXBMI     1948 non-null   float64\n",
      " 5   LBXGLU     1953 non-null   float64\n",
      " 6   DIQ010     1948 non-null   float64\n",
      " 7   LBXGLT     1955 non-null   float64\n",
      " 8   LBXIN      1957 non-null   float64\n",
      " 9   age_group  1952 non-null   object \n",
      "dtypes: float64(9), object(1)\n",
      "memory usage: 153.7+ KB\n"
     ]
    }
   ],
   "source": [
    "train.info()"
   ]
  },
  {
   "cell_type": "code",
   "execution_count": 5,
   "id": "4fce9190",
   "metadata": {},
   "outputs": [
    {
     "data": {
      "text/plain": [
       "SEQN         12\n",
       "RIDAGEYR      9\n",
       "RIAGENDR     18\n",
       "PAQ605       13\n",
       "BMXBMI       18\n",
       "LBXGLU       13\n",
       "DIQ010       18\n",
       "LBXGLT       11\n",
       "LBXIN         9\n",
       "age_group    14\n",
       "dtype: int64"
      ]
     },
     "execution_count": 5,
     "metadata": {},
     "output_type": "execute_result"
    }
   ],
   "source": [
    "# There seems to be some missing valeues in the dataset\n",
    "train.isnull().sum()"
   ]
  },
  {
   "cell_type": "code",
   "execution_count": 6,
   "id": "3c038e9d",
   "metadata": {},
   "outputs": [
    {
     "data": {
      "text/html": [
       "<div>\n",
       "<style scoped>\n",
       "    .dataframe tbody tr th:only-of-type {\n",
       "        vertical-align: middle;\n",
       "    }\n",
       "\n",
       "    .dataframe tbody tr th {\n",
       "        vertical-align: top;\n",
       "    }\n",
       "\n",
       "    .dataframe thead th {\n",
       "        text-align: right;\n",
       "    }\n",
       "</style>\n",
       "<table border=\"1\" class=\"dataframe\">\n",
       "  <thead>\n",
       "    <tr style=\"text-align: right;\">\n",
       "      <th></th>\n",
       "      <th>Column Name</th>\n",
       "      <th>Data Type</th>\n",
       "      <th>Unique Values</th>\n",
       "      <th>Missing Values</th>\n",
       "    </tr>\n",
       "  </thead>\n",
       "  <tbody>\n",
       "    <tr>\n",
       "      <th>0</th>\n",
       "      <td>SEQN</td>\n",
       "      <td>float64</td>\n",
       "      <td>1954</td>\n",
       "      <td>12</td>\n",
       "    </tr>\n",
       "    <tr>\n",
       "      <th>1</th>\n",
       "      <td>RIDAGEYR</td>\n",
       "      <td>float64</td>\n",
       "      <td>69</td>\n",
       "      <td>9</td>\n",
       "    </tr>\n",
       "    <tr>\n",
       "      <th>2</th>\n",
       "      <td>RIAGENDR</td>\n",
       "      <td>float64</td>\n",
       "      <td>2</td>\n",
       "      <td>18</td>\n",
       "    </tr>\n",
       "    <tr>\n",
       "      <th>3</th>\n",
       "      <td>PAQ605</td>\n",
       "      <td>float64</td>\n",
       "      <td>3</td>\n",
       "      <td>13</td>\n",
       "    </tr>\n",
       "    <tr>\n",
       "      <th>4</th>\n",
       "      <td>BMXBMI</td>\n",
       "      <td>float64</td>\n",
       "      <td>332</td>\n",
       "      <td>18</td>\n",
       "    </tr>\n",
       "    <tr>\n",
       "      <th>5</th>\n",
       "      <td>LBXGLU</td>\n",
       "      <td>float64</td>\n",
       "      <td>95</td>\n",
       "      <td>13</td>\n",
       "    </tr>\n",
       "    <tr>\n",
       "      <th>6</th>\n",
       "      <td>DIQ010</td>\n",
       "      <td>float64</td>\n",
       "      <td>3</td>\n",
       "      <td>18</td>\n",
       "    </tr>\n",
       "    <tr>\n",
       "      <th>7</th>\n",
       "      <td>LBXGLT</td>\n",
       "      <td>float64</td>\n",
       "      <td>224</td>\n",
       "      <td>11</td>\n",
       "    </tr>\n",
       "    <tr>\n",
       "      <th>8</th>\n",
       "      <td>LBXIN</td>\n",
       "      <td>float64</td>\n",
       "      <td>1292</td>\n",
       "      <td>9</td>\n",
       "    </tr>\n",
       "    <tr>\n",
       "      <th>9</th>\n",
       "      <td>age_group</td>\n",
       "      <td>object</td>\n",
       "      <td>2</td>\n",
       "      <td>14</td>\n",
       "    </tr>\n",
       "  </tbody>\n",
       "</table>\n",
       "</div>"
      ],
      "text/plain": [
       "  Column Name Data Type  Unique Values  Missing Values\n",
       "0        SEQN   float64           1954              12\n",
       "1    RIDAGEYR   float64             69               9\n",
       "2    RIAGENDR   float64              2              18\n",
       "3      PAQ605   float64              3              13\n",
       "4      BMXBMI   float64            332              18\n",
       "5      LBXGLU   float64             95              13\n",
       "6      DIQ010   float64              3              18\n",
       "7      LBXGLT   float64            224              11\n",
       "8       LBXIN   float64           1292               9\n",
       "9   age_group    object              2              14"
      ]
     },
     "execution_count": 6,
     "metadata": {},
     "output_type": "execute_result"
    }
   ],
   "source": [
    "# Perform column-wise analysis\n",
    "column_analysis = []\n",
    "\n",
    "for column in train.columns:\n",
    "    column_info = {\n",
    "        'Column Name': column,\n",
    "        'Data Type': train[column].dtype,\n",
    "        'Unique Values': train[column].nunique(),\n",
    "        'Missing Values': train[column].isnull().sum(),\n",
    "        # 'Sample Values': train[column].dropna().unique()[:3] if train[column].nunique() > 3 else train[column].dropna().unique()\n",
    "    }\n",
    "    column_analysis.append(column_info)\n",
    "\n",
    "column_analysis_df = pd.DataFrame(column_analysis)\n",
    "column_analysis_df"
   ]
  },
  {
   "cell_type": "markdown",
   "id": "a61fb2bb",
   "metadata": {},
   "source": [
    "##### Points to notice\n",
    "1. The missing values are present in the all of the columns, we dont require SEQN column for this, so we can drop it.\n",
    "2. We can drop the rows for which the age_group is not present, as we are only interested in predicting the age group.\n",
    "3.  For the rest of the columns, we can impute the missing values with the median of the column."
   ]
  },
  {
   "cell_type": "code",
   "execution_count": 7,
   "id": "9c860be4",
   "metadata": {},
   "outputs": [
    {
     "name": "stdout",
     "output_type": "stream",
     "text": [
      "Random Forest F1 Score: 1.0\n"
     ]
    }
   ],
   "source": [
    "# Drop rows with missing target values\n",
    "train = train.dropna(subset=['age_group'])\n",
    "\n",
    "# Now map the target to 0 and 1\n",
    "train['age_group'] = train['age_group'].map({'Adult': 0, 'Senior': 1})\n",
    "\n",
    "# Drop SEQN (ID column)\n",
    "X = train.drop(columns=['SEQN', 'age_group'])\n",
    "y = train['age_group']\n",
    "X_test = test.drop(columns=['SEQN'])\n",
    "\n",
    "# Handle missing values using median imputation\n",
    "imputer = SimpleImputer(strategy='median')\n",
    "X_imputed = imputer.fit_transform(X)\n",
    "X_test_imputed = imputer.transform(X_test)\n",
    "\n",
    "# Scaling features (optional, mostly for XGBoost and LightGBM)\n",
    "scaler = StandardScaler()\n",
    "X_scaled = scaler.fit_transform(X_imputed)\n",
    "X_test_scaled = scaler.transform(X_test_imputed)\n",
    "\n",
    "# Train/Validation split\n",
    "X_train, X_val, y_train, y_val = train_test_split(X_scaled, y, test_size=0.2, stratify=y, random_state=42)\n",
    "\n",
    "# -----------------------------#\n",
    "# 1. Random Forest\n",
    "# -----------------------------#\n",
    "rf = RandomForestClassifier(random_state=42)\n",
    "rf.fit(X_train, y_train)\n",
    "rf_val_preds = rf.predict(X_val)\n",
    "rf_f1 = f1_score(y_val, rf_val_preds)\n",
    "print(\"Random Forest F1 Score:\", rf_f1)\n",
    "\n"
   ]
  },
  {
   "cell_type": "code",
   "execution_count": 8,
   "id": "e2503b9b",
   "metadata": {},
   "outputs": [
    {
     "name": "stdout",
     "output_type": "stream",
     "text": [
      "Random Forest F1 Score: 1.0\n"
     ]
    },
    {
     "data": {
      "image/png": "[encoded data removed]",
      "text/plain": [
       "<Figure size 640x480 with 2 Axes>"
      ]
     },
     "metadata": {},
     "output_type": "display_data"
    }
   ],
   "source": [
    "from sklearn.metrics import confusion_matrix, ConfusionMatrixDisplay\n",
    "\n",
    "def plot_confusion(y_true, y_pred, title=\"Confusion Matrix\"):\n",
    "    cm = confusion_matrix(y_true, y_pred)\n",
    "    disp = ConfusionMatrixDisplay(confusion_matrix=cm, display_labels=[\"Adult (0)\", \"Senior (1)\"])\n",
    "    disp.plot(cmap=\"Blues\")\n",
    "    plt.title(title)\n",
    "    plt.show()\n",
    "\n",
    "\n",
    "# Random Forest\n",
    "rf_val_preds = rf.predict(X_val)\n",
    "print(\"Random Forest F1 Score:\", f1_score(y_val, rf_val_preds))\n",
    "plot_confusion(y_val, rf_val_preds, title=\"Random Forest\")"
   ]
  },
  {
   "cell_type": "code",
   "execution_count": 9,
   "id": "94704d00",
   "metadata": {},
   "outputs": [
    {
     "name": "stderr",
     "output_type": "stream",
     "text": [
      "c:\\Users\\arjun\\AppData\\Local\\Programs\\Python\\Python312\\Lib\\site-packages\\xgboost\\training.py:183: UserWarning: [19:05:20] WARNING: C:\\actions-runner\\_work\\xgboost\\xgboost\\src\\learner.cc:738: \n",
      "Parameters: { \"use_label_encoder\" } are not used.\n",
      "\n",
      "  bst.update(dtrain, iteration=i, fobj=obj)\n"
     ]
    },
    {
     "name": "stdout",
     "output_type": "stream",
     "text": [
      "XGBoost F1 Score: 1.0\n"
     ]
    },
    {
     "data": {
      "image/png": "[encoded data removed]",
      "text/plain": [
       "<Figure size 640x480 with 2 Axes>"
      ]
     },
     "metadata": {},
     "output_type": "display_data"
    }
   ],
   "source": [
    "# -----------------------------#\n",
    "# 2. XGBoost\n",
    "# -----------------------------#\n",
    "xgb = XGBClassifier(use_label_encoder=False, eval_metric='logloss', random_state=42)\n",
    "xgb.fit(X_train, y_train)\n",
    "xgb_val_preds = xgb.predict(X_val)\n",
    "xgb_f1 = f1_score(y_val, xgb_val_preds)\n",
    "print(\"XGBoost F1 Score:\", xgb_f1)\n",
    "\n",
    "\n",
    "# XGBoost confusion matrix\n",
    "plot_confusion(y_val, xgb_val_preds, title=\"XGBoost\")"
   ]
  },
  {
   "cell_type": "code",
   "execution_count": null,
   "id": "2864032e",
   "metadata": {},
   "outputs": [],
   "source": [
    "from sklearn.model_selection import RandomizedSearchCV\n",
    "from scipy.stats import randint\n",
    "\n",
    "# Define parameter distributions for Random Forest\n",
    "rf_param_dist = {\n",
    "    'n_estimators': randint(50, 500),\n",
    "    'max_depth': [None] + list(np.arange(5, 50, 5)),\n",
    "    'min_samples_split': randint(2, 20),\n",
    "    'min_samples_leaf': randint(1, 10),\n",
    "    'bootstrap': [True, False]\n",
    "}\n",
    "\n",
    "# Random Forest with RandomizedSearchCV\n",
    "rf_random = RandomizedSearchCV(\n",
    "    estimator=rf,\n",
    "    param_distributions=rf_param_dist,\n",
    "    n_iter=50,  # Number of parameter settings sampled\n",
    "    cv=5,  # 5-fold cross-validation\n",
    "    scoring='f1',\n",
    "    random_state=42,\n",
    "    n_jobs=-1  # Use all available cores\n",
    ")\n",
    "\n",
    "rf_random.fit(X_train, y_train)\n",
    "best_rf = rf_random.best_estimator_\n",
    "rf_val_preds = best_rf.predict(X_val)\n",
    "rf_f1 = f1_score(y_val, rf_val_preds)\n",
    "print(\"Tuned Random Forest F1 Score:\", rf_f1)\n",
    "plot_confusion(y_val, rf_val_preds, title=\"Tuned Random Forest\")\n",
    "\n"
   ]
  },
  {
   "cell_type": "code",
   "execution_count": null,
   "id": "cc17a369",
   "metadata": {},
   "outputs": [],
   "source": [
    "# Define parameter distributions for XGBoost\n",
    "xgb_param_dist = {\n",
    "    'n_estimators': randint(50, 500),\n",
    "    'max_depth': randint(3, 30),\n",
    "    'learning_rate': np.arange(0.01, 0.3, 0.05),\n",
    "    'subsample': np.arange(0.5, 1.0, 0.1),\n",
    "    'colsample_bytree': np.arange(0.5, 1.0, 0.1)\n",
    "}\n",
    "\n",
    "# XGBoost with RandomizedSearchCV\n",
    "xgb_random = RandomizedSearchCV(\n",
    "    estimator=xgb,\n",
    "    param_distributions=xgb_param_dist,\n",
    "    n_iter=50,  # Number of parameter settings sampled\n",
    "    cv=5,  # 5-fold cross-validation\n",
    "    scoring='f1',\n",
    "    random_state=42,\n",
    "    n_jobs=-1  # Use all available cores\n",
    ")\n",
    "\n",
    "xgb_random.fit(X_train, y_train)\n",
    "best_xgb = xgb_random.best_estimator_\n",
    "xgb_val_preds = best_xgb.predict(X_val)\n",
    "xgb_f1 = f1_score(y_val, xgb_val_preds)\n",
    "print(\"Tuned XGBoost F1 Score:\", xgb_f1)\n",
    "plot_confusion(y_val, xgb_val_preds, title=\"Tuned XGBoost\")"
   ]
  },
  {
   "cell_type": "code",
   "execution_count": null,
   "id": "dcaab1ea",
   "metadata": {},
   "outputs": [],
   "source": [
    "# Determine the best model based on F1 score\n",
    "best_model = best_xgb if xgb_f1 > rf_f1 else best_rf\n",
    "\n",
    "# Make predictions using the best model\n",
    "final_preds = best_model.predict(X_test_scaled)\n",
    "\n",
    "# Prepare submission\n",
    "submission = pd.DataFrame({\n",
    "    'SEQN': test['SEQN'],  # Include SEQN to match predictions with original test data\n",
    "    'age_group': final_preds  # Predictions are already 0 or 1\n",
    "})\n",
    "\n",
    "# Save to CSV\n",
    "submission.to_csv(\"submission2.csv\", index=False)\n",
    "print(\"submission2.csv saved.\")\n"
   ]
  }
 ],
 "metadata": {
  "kernelspec": {
   "display_name": "Python 3",
   "language": "python",
   "name": "python3"
  },
  "language_info": {
   "codemirror_mode": {
    "name": "ipython",
    "version": 3
   },
   "file_extension": ".py",
   "mimetype": "text/x-python",
   "name": "python",
   "nbconvert_exporter": "python",
   "pygments_lexer": "ipython3",
   "version": "3.12.6"
  }
 },
 "nbformat": 4,
 "nbformat_minor": 5
}
